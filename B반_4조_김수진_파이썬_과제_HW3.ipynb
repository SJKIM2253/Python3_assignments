{
 "cells": [
  {
   "cell_type": "markdown",
   "metadata": {
    "colab_type": "text",
    "id": "ZfokHUCvYKnP"
   },
   "source": [
    "8월 13일 화요일까지, 구글 colaboratory에서 작성했습니다."
   ]
  },
  {
   "cell_type": "markdown",
   "metadata": {
    "colab_type": "text",
    "id": "av56CqNj5p2-"
   },
   "source": [
    "# 1. 딕셔너리(dict)"
   ]
  },
  {
   "cell_type": "markdown",
   "metadata": {
    "colab_type": "text",
    "id": "7CKgYO2ADmQD"
   },
   "source": [
    "# 실습1"
   ]
  },
  {
   "cell_type": "markdown",
   "metadata": {
    "colab_type": "text",
    "id": "2eO61ICf5wQh"
   },
   "source": [
    "for 문을 사용하여 딕셔너리 타입의 d의 모든 value를 출력해 보시오. "
   ]
  },
  {
   "cell_type": "code",
   "execution_count": 1,
   "metadata": {
    "colab": {
     "base_uri": "https://localhost:8080/",
     "height": 34
    },
    "colab_type": "code",
    "id": "ivh0q5mn5vdJ",
    "outputId": "ae7d326f-9894-4969-847b-aa2bc65b7400"
   },
   "outputs": [
    {
     "name": "stdout",
     "output_type": "stream",
     "text": [
      "1 2 10 "
     ]
    }
   ],
   "source": [
    "d = {'youn': 1, 'park': 2, 'kim': 10}\n",
    "\n",
    "for i in d.keys():\n",
    "    print(d[i], end=\" \")"
   ]
  },
  {
   "cell_type": "markdown",
   "metadata": {
    "colab_type": "text",
    "id": "u1C_S5c9Do-p"
   },
   "source": [
    "# 실습2"
   ]
  },
  {
   "cell_type": "markdown",
   "metadata": {
    "colab_type": "text",
    "id": "9G4U-9g46D9X"
   },
   "source": [
    "아래와 같은 딕셔너리가 있다. \n",
    "d = { 'one':1, 'two':2, 'three':3, 'four':4, 'five':5} \n",
    "key의 알파벳을 기준으로 순서대로 아래와 같이 (key, value)로 출력하시오."
   ]
  },
  {
   "cell_type": "code",
   "execution_count": 2,
   "metadata": {
    "colab": {
     "base_uri": "https://localhost:8080/",
     "height": 102
    },
    "colab_type": "code",
    "id": "3J-XD13c5vC-",
    "outputId": "baa37975-35d0-4a71-c44d-d77bb1ffe2bc"
   },
   "outputs": [
    {
     "name": "stdout",
     "output_type": "stream",
     "text": [
      "five 5\n",
      "four 4\n",
      "one 1\n",
      "three 3\n",
      "two 2\n"
     ]
    }
   ],
   "source": [
    "d = { 'one':1, 'two':2, 'three':3, 'four':4, 'five':5} \n",
    "\n",
    "s = sorted(list(d.keys()))\n",
    "\n",
    "for i in s:\n",
    "    print(i,d[i])"
   ]
  },
  {
   "cell_type": "markdown",
   "metadata": {
    "colab_type": "text",
    "id": "PBAXq1bE7ihK"
   },
   "source": [
    "# 실습3\n",
    "어떤 문장을 입력 받으면 해당 문장에서 각 알파벳이 몇 개씩 나오는지 저장하는 딕셔너리를 만든 후, 아래와 같이 출력하시오.\n",
    "\n",
    "Enter a sentence: Python is fun!\n",
    "\n",
    "{'!': 1, ' ': 2, 'f': 1, 'i': 1, 'h': 1, 'o': 1, 'n': 2, 'P': 1, 's': 1, 'u': 1, 't': 1, 'y': 1}"
   ]
  },
  {
   "cell_type": "code",
   "execution_count": 3,
   "metadata": {
    "colab": {
     "base_uri": "https://localhost:8080/",
     "height": 51
    },
    "colab_type": "code",
    "id": "hw__P0i27kva",
    "outputId": "b3e43282-3906-46ba-ac22-d417e72906da"
   },
   "outputs": [
    {
     "name": "stdout",
     "output_type": "stream",
     "text": [
      "Enter a sentencePython is fun!\n",
      "{'t': 1, 's': 1, 'y': 1, ' ': 2, 'P': 1, '!': 1, 'o': 1, 'f': 1, 'i': 1, 'h': 1, 'n': 2, 'u': 1}\n"
     ]
    }
   ],
   "source": [
    "sentence = input(\"Enter a sentence\")\n",
    "d = {}\n",
    "s = set(sentence)\n",
    "for alphabet in s:\n",
    "    d[alphabet] = sentence.count(alphabet)\n",
    "print(d)"
   ]
  },
  {
   "cell_type": "markdown",
   "metadata": {
    "colab_type": "text",
    "id": "YQjuICA874Ql"
   },
   "source": [
    "# 2. 파일\n"
   ]
  },
  {
   "cell_type": "markdown",
   "metadata": {
    "colab_type": "text",
    "id": "JMO7uv7Z7-6f"
   },
   "source": [
    "# 실습1\n",
    "파일에 있는 각각의 단어 수 구하기\n",
    "<test.txt>"
   ]
  },
  {
   "cell_type": "code",
   "execution_count": 4,
   "metadata": {
    "colab": {
     "base_uri": "https://localhost:8080/",
     "height": 85
    },
    "colab_type": "code",
    "id": "Qj753oVs8jS3",
    "outputId": "6b61735e-de59-40f4-a369-5e48d9c4b947"
   },
   "outputs": [
    {
     "name": "stdout",
     "output_type": "stream",
     "text": [
      "line 3\n",
      "third 1\n",
      "first 1\n",
      "second 1\n"
     ]
    }
   ],
   "source": [
    "f = open(\"test.txt\", \"w\")\n",
    "l = ['first','second','third']\n",
    "\n",
    "for i in range(1,4):\n",
    "    data = \"%s line\\n\" % l[i-1]\n",
    "    f.write(data)\n",
    "\n",
    "f.close()\n",
    "\n",
    "f = open(\"test.txt\", \"r\")\n",
    "l = f.read().split()\n",
    "s = set(l)\n",
    "\n",
    "for i in s:\n",
    "   print(i, l.count(i))"
   ]
  },
  {
   "cell_type": "markdown",
   "metadata": {
    "colab_type": "text",
    "id": "NUmUaC8Z9rio"
   },
   "source": [
    "# 실습2\n",
    "파일명을 입력 받아, 해당 파일을 한 줄씩 읽어 파일의 내용을 모두 대문자로 출력하는 프로그램을 작성하시오.\n",
    "\n",
    "Enter a file name: test.txt\n",
    "\n",
    "FIRST LINE\n",
    "\n",
    "SECOND LINE\n",
    "\n",
    "THIRD LINE"
   ]
  },
  {
   "cell_type": "code",
   "execution_count": 5,
   "metadata": {
    "colab": {
     "base_uri": "https://localhost:8080/",
     "height": 248
    },
    "colab_type": "code",
    "id": "JiEkL4M07xEe",
    "outputId": "a8249ba6-3b5e-4a29-853b-51d56bcc0109"
   },
   "outputs": [
    {
     "name": "stdout",
     "output_type": "stream",
     "text": [
      "Enter a file name:test.txt\n",
      "FIRST LINE\n",
      "SECOND LINE\n",
      "THIRD LINE\n",
      "\n",
      "\n",
      "\n"
     ]
    }
   ],
   "source": [
    "fname = input(\"Enter a file name:\")\n",
    "\n",
    "f = open(fname, \"r\")\n",
    "lines = 0\n",
    "for line in f:\n",
    "    lines +=1\n",
    "f.seek(0)\n",
    "for i in range(1,lines+1):\n",
    "    print(f.read().upper())\n",
    "\n",
    "f.close()"
   ]
  },
  {
   "cell_type": "markdown",
   "metadata": {
    "colab_type": "text",
    "id": "0StjYgDM--5g"
   },
   "source": [
    "# 실습4\n",
    "아래의 score.txt를 읽어서 학생들의 성적을 처리하여 그 결과를 report.txt로 출력하는 프로그램을 작성하시오.\n",
    "\n",
    "(학점기준) \n",
    "\n",
    "총점이 90이상이면 A,\n",
    "\n",
    "80이상~90미만이면 B\n",
    "\n",
    "70이상~80미만이면 C\n",
    "\n",
    "60이상~70미만이면 D\n",
    "\n",
    "60미만이면 F\n",
    "\n",
    "<주의사항>\n",
    "- 학생수를 예시의 학생수처럼 고정해서 구현하지 말 것"
   ]
  },
  {
   "cell_type": "code",
   "execution_count": 2,
   "metadata": {
    "colab": {
     "base_uri": "https://localhost:8080/",
     "height": 231
    },
    "colab_type": "code",
    "id": "74f74ug-AYPJ",
    "outputId": "9b156188-e4e6-4529-bfed-43497ce44e15"
   },
   "outputs": [
    {
     "name": "stdout",
     "output_type": "stream",
     "text": [
      "201901 89 78 83.5(F)\n",
      "201902 76 84 80.0(B)\n",
      "201903 67 42 54.5(F)\n",
      "201904 66 88 77.0(F)\n",
      "201905 98 99 98.5(F)\n",
      "\n"
     ]
    }
   ],
   "source": [
    "f = open(\"score.txt\", \"r\")\n",
    "f2 = open(\"report.txt\",\"w\")\n",
    "\n",
    "lines = 0\n",
    "for line in f:\n",
    "    lines +=1\n",
    "f.seek(0)\n",
    "\n",
    "for i in range(1,lines+1):\n",
    "    r = f.readline()\n",
    "    l = list(r.split())\n",
    "    score = (int(l[1])+int(l[2]))/2\n",
    "\n",
    "    if (score % 10 == 9):\n",
    "        gpa = 'A'\n",
    "    elif score / 10 ==8:\n",
    "        gpa = 'B'\n",
    "    elif score / 10 ==7:\n",
    "        gpa = 'C'\n",
    "    elif score / 10 ==6:\n",
    "        gpa = 'D'\n",
    "    else:\n",
    "        gpa = 'F'\n",
    "\n",
    "    f2.write(\"%s %s %s %0.1f(%s)\\n\" %(l[0],l[1],l[2],score,gpa))\n",
    "         \n",
    "f.close()\n",
    "f2.close()\n",
    "             \n",
    "f2 = open(\"report.txt\",\"r\")\n",
    "\n",
    "data = f2.read()\n",
    "print(data)\n",
    "\n",
    "f2.close()"
   ]
  },
  {
   "cell_type": "code",
   "execution_count": null,
   "metadata": {},
   "outputs": [],
   "source": []
  }
 ],
 "metadata": {
  "colab": {
   "collapsed_sections": [],
   "name": "B반 4조 김수진 파이썬 과제 HW3",
   "provenance": [],
   "toc_visible": true,
   "version": "0.3.2"
  },
  "kernelspec": {
   "display_name": "Python 3",
   "language": "python",
   "name": "python3"
  },
  "language_info": {
   "codemirror_mode": {
    "name": "ipython",
    "version": 3
   },
   "file_extension": ".py",
   "mimetype": "text/x-python",
   "name": "python",
   "nbconvert_exporter": "python",
   "pygments_lexer": "ipython3",
   "version": "3.7.3"
  }
 },
 "nbformat": 4,
 "nbformat_minor": 1
}
