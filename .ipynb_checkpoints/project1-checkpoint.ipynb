{
 "cells": [
  {
   "cell_type": "code",
   "execution_count": 1,
   "metadata": {},
   "outputs": [],
   "source": [
    "import sys\n",
    "\n",
    "def Grade(score):\n",
    "    if score // 10 == 9:\n",
    "        grade = 'A'\n",
    "    elif score // 10 ==8:\n",
    "        grade = 'B'\n",
    "    elif score // 10 ==7:\n",
    "        grade = 'C'\n",
    "    elif score // 10 ==6:\n",
    "        grade = 'D'\n",
    "    else:\n",
    "        grade = 'F'\n",
    "    return grade"
   ]
  },
  {
   "cell_type": "code",
   "execution_count": 2,
   "metadata": {},
   "outputs": [],
   "source": [
    "# 내림차순 처리\n",
    "def show():\n",
    "    count = 0\n",
    "    stu_list.sort(key=lambda e : e[2], reverse=True)\n",
    "    for i in stu_list:\n",
    "        print(\"%s\\t%s\\t%s\\t%s\\t%0.1f\\t%s\\n\" %(stu_list[count][0],stu_list[count][1],stu_list[count][2],stu_list[count][3],stu_list[count][4],stu_list[count][5]))\n",
    "        count += 1"
   ]
  },
  {
   "cell_type": "code",
   "execution_count": 3,
   "metadata": {},
   "outputs": [],
   "source": [
    "def search():\n",
    "    student_ID = input(\"Student ID:\")\n",
    "    count = 0\n",
    "    linenum = -1\n",
    "    for i in stu_list:\n",
    "        if i[count] == student_ID:\n",
    "            linenum = count\n",
    "            break\n",
    "        count += 1\n",
    "        \n",
    "    if linenum == -1:\n",
    "        print(\"NO SUCH PERSON.\")\n",
    "    else:\n",
    "        print(\"%s\\t%s\\t%s\\t%s\\t%0.1f\\t%s\\n\" %(stu_list[linenum][0],stu_list[linenum][1],stu_list[linenum][2],stu_list[linenum][3],stu_list[linenum][4],stu_list[linenum][5]))\n"
   ]
  },
  {
   "cell_type": "code",
   "execution_count": 4,
   "metadata": {},
   "outputs": [],
   "source": [
    "def changescore():\n",
    "    student_ID = input(\"Student ID:\")\n",
    "    count = 0\n",
    "    linenum = -1\n",
    "    for i in stu_list:\n",
    "        if i[count] == student_ID:\n",
    "            linenum = count\n",
    "        count += 1\n",
    "        \n",
    "    if linenum == -1:\n",
    "        print(\"NO SUCH PERSON.\")\n",
    "    else:\n",
    "        term = input(\"Mid/Final?\")\n",
    "\n",
    "        if (term =='mid') or(term ==\"final\"):\n",
    "            newFinalScore=int(input(\"Input new score:\"))\n",
    "            if newFinalScore >= 0 and newFinalScore <= 100:\n",
    "                if term == \"mid\":\n",
    "                    stu_list[linenum][3] = newFinalScore\n",
    "                    score = (int(stu_list[linenum][2])+int(stu_list[linenum][3]))/2\n",
    "                    stu_list[linenum][5] = Grade(score)\n",
    "                else : \n",
    "                    stu_list[linenum][4] = newFinalScore\n",
    "                    score = (int(stu_list[linenum][2])+int(stu_list[linenum][3]))/2\n",
    "                    stu_list[linenum][5] = Grade(score)"
   ]
  },
  {
   "cell_type": "code",
   "execution_count": 18,
   "metadata": {},
   "outputs": [],
   "source": [
    "def searchgrade():\n",
    "    grade = input(\"Grade to search:\")\n",
    "    if grade in ['A','B','C','D','F']:\n",
    "        lines = 0\n",
    "        for i in range(len(stu_list)):\n",
    "            if stu_list[i][5] == grade:\n",
    "                lines += 1\n",
    "                print(\"{0} {1} {2} {3} {4} {5}\".format(*stu_list[i]))\n",
    "        if lines == 0:\n",
    "            print(\"NO RESULTS.\")  "
   ]
  },
  {
   "cell_type": "code",
   "execution_count": 6,
   "metadata": {},
   "outputs": [],
   "source": [
    "# ID 중복 검색하는 경우가 많아서 따로 리스트 만들기\n",
    "def add():\n",
    "    newID = input(\"Student ID:\")\n",
    "    count = 0\n",
    "    for lines in range(len(stu_list)):\n",
    "        if stu_list[lines][0] == newID:\n",
    "            print(\"ALREADY EXISTS.\")\n",
    "            count = 1\n",
    "            break\n",
    "    if count ==0:    \n",
    "        name = input(\"Name:\")\n",
    "        midscore = input(\"Midterm Score:\")\n",
    "        finalscore = input(\"Final Score:\")\n",
    "        avr = (int(midscore)+int(finalscore))/2\n",
    "        grade=Grade(avr)\n",
    "        stu_list.append([newID,name, midscore, finalscore, avr, grade])\n",
    "        print(\"Student added.\")"
   ]
  },
  {
   "cell_type": "code",
   "execution_count": 35,
   "metadata": {},
   "outputs": [],
   "source": [
    "def remove():\n",
    "    studentID = input(\"Student ID:\")\n",
    "    if stu_list==[]:\n",
    "        print(\"List is empty.\")\n",
    "    else :\n",
    "        count = 0\n",
    "        for lines in stu_list:\n",
    "            if lines[0] == int(studentID):\n",
    "                del stu_list[count]\n",
    "                count += 1\n",
    "            \n",
    "    if count == 0:\n",
    "        print(\"NO SUCH PERSON.\")"
   ]
  },
  {
   "cell_type": "code",
   "execution_count": 44,
   "metadata": {},
   "outputs": [],
   "source": [
    "def quit():\n",
    "    savedata = input(\"Save data?[yes/no]\")\n",
    "    if savedata == 'yes':\n",
    "        stu_list.sort(key=lambda e : e[2])\n",
    "        filename = input(\"File name:\")\n",
    "                      \n",
    "        f_write = open(filename,'w')\n",
    "                      \n",
    "        count = 0\n",
    "        for line in stu_list:\n",
    "            f_write.write(\"{0} {1} {2} {3} {4} {5}\\n\" .format(*stu_list[count]))\n",
    "            count += 1\n",
    "        f_write.close()\n"
   ]
  },
  {
   "cell_type": "code",
   "execution_count": 9,
   "metadata": {},
   "outputs": [
    {
     "data": {
      "text/plain": [
       "[['20180007', 'Kim Cheolsu', '57', '62', 59.5, 'F'],\n",
       " ['20180011', 'Ha Donghun', '58', '68', 63.0, 'D'],\n",
       " ['20180009', 'Lee Yeonghee', '81', '84', 82.5, 'B'],\n",
       " ['20180001', 'Hong Gildong', '84', '73', 78.5, 'C'],\n",
       " ['20180002', 'Lee Jieun', '92', '89', 90.5, 'A']]"
      ]
     },
     "execution_count": 9,
     "metadata": {},
     "output_type": "execute_result"
    }
   ],
   "source": [
    "args = sys.argv # 리스트 형태\n",
    "\n",
    "if sys.argv[0] :\n",
    "    f = open(\"students.txt\",\"r\")\n",
    "else :\n",
    "    f = open(sys.argv[0],\"r\")                      \n",
    "# f = open(\"students.txt\",\"r\")                \n",
    "data =f.read() \n",
    "\n",
    "stu_list = []\n",
    "count = 0\n",
    "lines = data.split(\"\\n\")\n",
    "f.seek(0)\n",
    "\n",
    "for line in f:\n",
    "    stu_list.append(lines[count].split(\"\\t\"))\n",
    "    score = (int(stu_list[count][2])+int(stu_list[count][3]))/2\n",
    "           \n",
    "    if score // 10 == 9:\n",
    "        grade = 'A'\n",
    "    elif score // 10 ==8:\n",
    "        grade = 'B'\n",
    "    elif score // 10 ==7:\n",
    "        grade = 'C'\n",
    "    elif score // 10 ==6:\n",
    "        grade = 'D'\n",
    "    else:\n",
    "        grade = 'F'\n",
    "           \n",
    "    stu_list[count].append(score)\n",
    "    stu_list[count].append(grade)\n",
    "    stu_list.sort(key=lambda e : e[2])\n",
    "    count += 1\n",
    "stu_list"
   ]
  },
  {
   "cell_type": "code",
   "execution_count": 45,
   "metadata": {},
   "outputs": [
    {
     "name": "stdout",
     "output_type": "stream",
     "text": [
      "#quit\n",
      "Save data?[yes/no]yes\n",
      "File name:newStudents.txt\n"
     ]
    }
   ],
   "source": [
    "while True:\n",
    "    command = input(\"#\").lower()\n",
    "    \n",
    "    if command == 'show':\n",
    "        show()\n",
    "\n",
    "    elif command == 'search':\n",
    "        search()\n",
    "\n",
    "    elif command == 'changescore':\n",
    "        changescore()\n",
    "\n",
    "    elif command == 'searchgrade':\n",
    "        searchgrade()\n",
    "\n",
    "    elif command == 'add':\n",
    "        add()\n",
    "\n",
    "    elif command == 'remove':\n",
    "        remove()\n",
    "\n",
    "    elif command == 'quit':\n",
    "        quit()\n",
    "        break\n",
    "        \n",
    "    else :\n",
    "        continue"
   ]
  },
  {
   "cell_type": "code",
   "execution_count": null,
   "metadata": {},
   "outputs": [],
   "source": []
  }
 ],
 "metadata": {
  "kernelspec": {
   "display_name": "Python 3",
   "language": "python",
   "name": "python3"
  },
  "language_info": {
   "codemirror_mode": {
    "name": "ipython",
    "version": 3
   },
   "file_extension": ".py",
   "mimetype": "text/x-python",
   "name": "python",
   "nbconvert_exporter": "python",
   "pygments_lexer": "ipython3",
   "version": "3.7.3"
  }
 },
 "nbformat": 4,
 "nbformat_minor": 2
}
