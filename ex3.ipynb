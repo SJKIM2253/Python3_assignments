{
 "cells": [
  {
   "cell_type": "code",
   "execution_count": 4,
   "metadata": {},
   "outputs": [
    {
     "name": "stdout",
     "output_type": "stream",
     "text": [
      "/home/pirl/anaconda3/lib/python3.7/site-packages/ipykernel_launcher.py\n",
      "-f\n",
      "/run/user/1000/jupyter/kernel-741a2766-75ce-4d73-b848-31183f9d039d.json\n"
     ]
    }
   ],
   "source": [
    "\"\"\"\n",
    "f = open(\"test.txt\", \"r\")\n",
    "f2 = open(\"dst.txt\", \"w\")\n",
    "\n",
    "for line in f:\n",
    "    f2.write(line)\n",
    "    \n",
    "f.close()\n",
    "f2.close()\n",
    "\"\"\"\n",
    "import sys\n",
    "\n",
    "args = sys.argv # 리스트 형태\n",
    "\n",
    "for i in args:\n",
    "    print(i)"
   ]
  },
  {
   "cell_type": "code",
   "execution_count": null,
   "metadata": {},
   "outputs": [],
   "source": []
  }
 ],
 "metadata": {
  "kernelspec": {
   "display_name": "Python 3",
   "language": "python",
   "name": "python3"
  },
  "language_info": {
   "codemirror_mode": {
    "name": "ipython",
    "version": 3
   },
   "file_extension": ".py",
   "mimetype": "text/x-python",
   "name": "python",
   "nbconvert_exporter": "python",
   "pygments_lexer": "ipython3",
   "version": "3.7.3"
  }
 },
 "nbformat": 4,
 "nbformat_minor": 2
}
