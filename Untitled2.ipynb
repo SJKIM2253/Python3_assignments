{
 "cells": [
  {
   "cell_type": "code",
   "execution_count": 36,
   "metadata": {},
   "outputs": [],
   "source": [
    "class Set:\n",
    "    \n",
    "    def __init__(self, member=[]):\n",
    "        self.member = member\n",
    "        \n",
    "    # union\n",
    "    def __add__(self,a):\n",
    "        return\n",
    "    \n",
    "    # difference\n",
    "    def __sub__(self,a):\n",
    "        return\n",
    "    \n",
    "    # intersection\n",
    "    def __div__(self,a):\n",
    "        return\n",
    "    \n",
    "    def __repr__(self):\n",
    "        return\n",
    "        \n",
    "    def append(self,a):\n",
    "        newl = Set()\n",
    "        print(a.member)\n",
    "        newl.member = self.member\n",
    "        print(self.member)\n",
    "        for i in a.member:\n",
    "            if i in self.member:\n",
    "                newl.member.append(i)\n",
    "        return newl\n",
    "    \n",
    "    def delete(self,a):\n",
    "        return\n",
    "    \n",
    "    def union(self,s2):\n",
    "        return\n",
    "    \n",
    "    def intersection(self,s2):\n",
    "        return\n",
    "    \n",
    "    def difference(self,s2):\n",
    "        return\n",
    "    \n",
    "    def append(self,a):\n",
    "        return\n",
    "    \n",
    "    def append(self,a):\n",
    "        return"
   ]
  },
  {
   "cell_type": "code",
   "execution_count": 37,
   "metadata": {},
   "outputs": [
    {
     "name": "stdout",
     "output_type": "stream",
     "text": [
      "None\n"
     ]
    }
   ],
   "source": [
    "a = Set([1,2,3])\n",
    "b = Set([4,5,6])\n",
    "\n",
    "# print(a.member)\n",
    "c= a.append(b)\n",
    "print(c)"
   ]
  },
  {
   "cell_type": "code",
   "execution_count": null,
   "metadata": {},
   "outputs": [],
   "source": []
  },
  {
   "cell_type": "code",
   "execution_count": null,
   "metadata": {},
   "outputs": [],
   "source": []
  }
 ],
 "metadata": {
  "kernelspec": {
   "display_name": "Python 3",
   "language": "python",
   "name": "python3"
  },
  "language_info": {
   "codemirror_mode": {
    "name": "ipython",
    "version": 3
   },
   "file_extension": ".py",
   "mimetype": "text/x-python",
   "name": "python",
   "nbconvert_exporter": "python",
   "pygments_lexer": "ipython3",
   "version": "3.7.4"
  }
 },
 "nbformat": 4,
 "nbformat_minor": 2
}
